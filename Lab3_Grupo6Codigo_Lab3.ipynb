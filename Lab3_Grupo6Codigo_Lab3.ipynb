{
  "nbformat": 4,
  "nbformat_minor": 0,
  "metadata": {
    "colab": {
      "name": "Codigo_Lab3.ipynb",
      "provenance": [],
      "collapsed_sections": [],
      "authorship_tag": "ABX9TyO/9wdMoF8P1hPBYIFbaeWt",
      "include_colab_link": true
    },
    "kernelspec": {
      "name": "python3",
      "display_name": "Python 3"
    },
    "language_info": {
      "name": "python"
    }
  },
  "cells": [
    {
      "cell_type": "markdown",
      "metadata": {
        "id": "view-in-github",
        "colab_type": "text"
      },
      "source": [
        "<a href=\"https://colab.research.google.com/github/dscastanedav/Alg2_dscastanedav/blob/main/Lab3_Grupo6Codigo_Lab3.ipynb\" target=\"_parent\"><img src=\"https://colab.research.google.com/assets/colab-badge.svg\" alt=\"Open In Colab\"/></a>"
      ]
    },
    {
      "cell_type": "code",
      "metadata": {
        "id": "7J_xuywqxzFe",
        "colab": {
          "base_uri": "https://localhost:8080/"
        },
        "outputId": "923c5b5f-2e36-4a6f-a018-2e3a7d081f92"
      },
      "source": [
        "from math import *\n",
        "import time \n",
        "def f(x): #Se define la función \n",
        "  return -x**4 + 30*(x**3) + 15*(x**2) + 34*x + 540\n",
        "\n",
        "def biseccion(a,b,tol): #Se define el metodo de biseccion, con el intervalo y error\n",
        "  m1=a\n",
        "  m=b\n",
        "  k=0       # Contador del numero de iteraciones\n",
        "  if (f(a)*f(b)>0): # En este caso ambas funciones poseen el mismo signo\n",
        "    print('la funcion no cambia de signo'); # No nos permite garantizar que exista una raiz en el intervalo\n",
        "\n",
        "  while (abs(m1-m) > tol): #Hay cambio de signo, se implementa el metodo de biseccion como tal\n",
        "    m1=m\n",
        "    m=(a+b)/2 #Se establece el punto medio del intervalo\n",
        "    if (f(a)*f(m)<0): #Cambia de signo en el intervalo [a,m]\n",
        "      b=m  #Se establece nuevo limite superior\n",
        "    if (f(m)*f(b)<0): #Cambia de signo en el intervalo [m,b]\n",
        "      a=m  #Se establece nuevo limite inferior\n",
        "    print('el intervalo es [',a,',',b,']')\n",
        "    k=k+1 #Se incrementa el valor del contador de iteraciones\n",
        "  \n",
        "  print('x',k,'=',m,'es excelente aproximacion') #Se imprime el numero de iteraciones que tomo y la variable en donde se almaceno el resultado\n",
        "tiempo_arranque = time.time()\n",
        "biseccion(0,1000,0.001)\n",
        "tiempo_final = time.time()-tiempo_arranque\n",
        "print(\"Tiempo:\",tiempo_final,\"Segundos\")"
      ],
      "execution_count": 23,
      "outputs": [
        {
          "output_type": "stream",
          "name": "stdout",
          "text": [
            "el intervalo es [ 0 , 500.0 ]\n",
            "el intervalo es [ 0 , 250.0 ]\n",
            "el intervalo es [ 0 , 125.0 ]\n",
            "el intervalo es [ 0 , 62.5 ]\n",
            "el intervalo es [ 0 , 31.25 ]\n",
            "el intervalo es [ 15.625 , 31.25 ]\n",
            "el intervalo es [ 23.4375 , 31.25 ]\n",
            "el intervalo es [ 27.34375 , 31.25 ]\n",
            "el intervalo es [ 29.296875 , 31.25 ]\n",
            "el intervalo es [ 30.2734375 , 31.25 ]\n",
            "el intervalo es [ 30.2734375 , 30.76171875 ]\n",
            "el intervalo es [ 30.517578125 , 30.76171875 ]\n",
            "el intervalo es [ 30.517578125 , 30.6396484375 ]\n",
            "el intervalo es [ 30.517578125 , 30.57861328125 ]\n",
            "el intervalo es [ 30.517578125 , 30.548095703125 ]\n",
            "el intervalo es [ 30.5328369140625 , 30.548095703125 ]\n",
            "el intervalo es [ 30.54046630859375 , 30.548095703125 ]\n",
            "el intervalo es [ 30.544281005859375 , 30.548095703125 ]\n",
            "el intervalo es [ 30.546188354492188 , 30.548095703125 ]\n",
            "el intervalo es [ 30.546188354492188 , 30.547142028808594 ]\n",
            "x 20 = 30.547142028808594 es excelente aproximacion\n",
            "Tiempo: 0.006945371627807617 Segundos\n"
          ]
        }
      ]
    }
  ]
}