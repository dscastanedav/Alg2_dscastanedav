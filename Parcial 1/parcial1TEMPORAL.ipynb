{
  "nbformat": 4,
  "nbformat_minor": 0,
  "metadata": {
    "colab": {
      "name": "copiaTaller_grupal_1.ipynb",
      "provenance": [],
      "collapsed_sections": []
    },
    "kernelspec": {
      "name": "python3",
      "display_name": "Python 3"
    },
    "language_info": {
      "name": "python"
    }
  },
  "cells": [
    {
      "cell_type": "markdown",
      "metadata": {
        "id": "6mYeh2-zj1SM"
      },
      "source": [
        "##Parcial 2, Punto 2\n",
        "Name1 Name2 Name3 Name4"
      ]
    },
    {
      "cell_type": "code",
      "metadata": {
        "colab": {
          "base_uri": "https://localhost:8080/"
        },
        "id": "5BWysNr4iXkq",
        "outputId": "2a06a7fc-6526-498b-b0a1-08b8b1bbf998"
      },
      "source": [
        "#declaramos variables & las pasamos como int\n",
        "print (\"ingrese sus dos numeros (no negativos ni numeros de mas de 5 digitos):\")\n",
        "a = int(input(\"ingrese su primer numero\"))\n",
        "b = int(input(\"ingrese su segundo numero\"))\n",
        "respuesta = 0\n",
        "longcheck = 0\n",
        "\n",
        "#verificacion de longitud\n",
        "if (len(str(a)) <= 5 and len(str(b)) <= 5 and a>0 and b>0): #asegurandose que AMBOS cumplan con los constraints\n",
        "  longcheck = 1\n",
        "  print (\"longitud valida\")\n",
        "else:\n",
        "  longcheck = 0\n",
        "  print(\"longitud invalida o numero negativo, corrija sus numeros y corra de nuevo el programa\")\n",
        "\n",
        "def laRusse(a, b, respuesta):\n",
        "  while (longcheck == 1):\n",
        "    if (b%2 != 0):\n",
        "      respuesta = respuesta + a\n",
        "      a = a*2\n",
        "      b = b//2\n",
        "    if (b%2 == 0):\n",
        "      a = a*2\n",
        "      b = b//2\n",
        "    if (b != 0):\n",
        "      return laRusse(a, b, respuesta)\n",
        "    return respuesta\n",
        "\n",
        "print(laRusse(a, b, respuesta))\n",
        "\n"
      ],
      "execution_count": 26,
      "outputs": [
        {
          "output_type": "stream",
          "name": "stdout",
          "text": [
            "ingrese sus dos numeros (no negativos ni numeros de mas de 5 digitos):\n",
            "ingrese su primer numero57\n",
            "ingrese su segundo numero86\n",
            "longitud valida\n",
            "4902\n"
          ]
        }
      ]
    },
    {
      "cell_type": "code",
      "metadata": {
        "id": "6692h2i9apw7"
      },
      "source": [
        "def passwordBreaker()\n",
        "\n",
        "  target='CGTTTTCGCTTTTCCGTTTACGATATATAGT' #Declaracion del target\n",
        "j=0 \n",
        "posicion = 0 #Declaracion de la posicion final\n",
        "for i in range(len(secuence)): #Recorrer la secuencia\n",
        "  if j < len(target): #Recorrer el target\n",
        "    if secuence[i] == target[j]: #Comparar caracteres de la secuencia con los del target\n",
        "      posicion=i+1 #Asignar posicion final\n",
        "      j=j+1 #Pasar a la siguiente posicion del target\n",
        "      if(j == len(target)): #si j tiene el mismo tamano del target, \n",
        "      #entonces se ha encontrado la ubicacion en secuencia del ultimo caracter del target\n",
        "        print(posicion-len(target),\"termina en \",posicion) # Se imprime la primera y ultima posicion de target en secuencia\n",
        "    else: \n",
        "      j=0 #j vuelve a ser cero si no tiene el mismo tamano del target\n",
        "      posicion=0 #y posicion tambien se reinicia xd\n"
      ],
      "execution_count": null,
      "outputs": []
    }
  ]
}