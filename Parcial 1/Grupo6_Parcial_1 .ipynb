{
  "nbformat": 4,
  "nbformat_minor": 0,
  "metadata": {
    "colab": {
      "name": "copiaTaller_grupal_1.ipynb",
      "provenance": [],
      "collapsed_sections": []
    },
    "kernelspec": {
      "name": "python3",
      "display_name": "Python 3"
    },
    "language_info": {
      "name": "python"
    }
  },
  "cells": [
    {
      "cell_type": "markdown",
      "metadata": {
        "id": "6mYeh2-zj1SM"
      },
      "source": [
        "##Grupo 6 Parcial 1\n",
        "Jhon Eduar Santofimio Medina  |  Alejandro Ramos Pérez  |  Nicolas La Rotta Mosquera  |  David Santiago Castañeda Vargas"
      ]
    },
    {
      "cell_type": "code",
      "metadata": {
        "colab": {
          "base_uri": "https://localhost:8080/"
        },
        "id": "5BWysNr4iXkq",
        "outputId": "5f9d4b76-0668-4464-bc40-7383dd3e8f6e"
      },
      "source": [
        "import time\n",
        "\n",
        "\n",
        "#declaramos variables & las pasamos como int\n",
        "print (\"ingrese sus dos numeros (no negativos ni numeros de mas de 5 digitos):\")\n",
        "a = int(input(\"ingrese su primer numero \"))\n",
        "b = int(input(\"ingrese su segundo numero \"))\n",
        "respuesta = 0\n",
        "longcheck = 0\n",
        "\n",
        "#verificacion de longitud\n",
        "if (len(str(a)) <= 5 and len(str(b)) <= 5 and a>0 and b>0): #asegurandose que AMBOS cumplan con los constraints\n",
        "  longcheck = 1\n",
        "  print (\"longitud valida\")\n",
        "else:\n",
        "  longcheck = 0\n",
        "  print(\"longitud invalida o numero negativo, corrija sus numeros y corra de nuevo el programa\")\n",
        "\n",
        "def laRusse(a, b, respuesta):\n",
        "  while (longcheck == 1):#que el codigo se ejecute siempre y cuando los numeros esten dentro de los constraints\n",
        "    if (b%2 != 0): #mitad en la que toca dividir por dos hast llegar al minimo\n",
        "      respuesta = respuesta + a\n",
        "      a = a*2\n",
        "      b = b//2\n",
        "    if (b%2 == 0):\n",
        "      a = a*2 #mitad en la que toca multiplicar por dos \n",
        "      b = b//2\n",
        "    if (b != 0):\n",
        "      return laRusse(a, b, respuesta) #return para romper el while infinito y hacer iteraciones\n",
        "    return respuesta\n",
        "\n",
        "timer=time.time() #Comenzamos el timer para medir tiemppo de ejecucción\n",
        "print(laRusse(a, b, respuesta))\n",
        "end = time.time() - timer\n",
        "print(\"El algoritmo se demoro\")\n",
        "print (\"{:.10f}\".format(end) + \"s \" + \"En ejecutar\")"
      ],
      "execution_count": 2,
      "outputs": [
        {
          "output_type": "stream",
          "name": "stdout",
          "text": [
            "ingrese sus dos numeros (no negativos ni numeros de mas de 5 digitos):\n",
            "ingrese su primer numero 54\n",
            "ingrese su segundo numero 87\n",
            "longitud valida\n",
            "4698\n",
            "El algoritmo se demoro\n",
            "0.0001289845En ejecutar\n"
          ]
        }
      ]
    },
    {
      "cell_type": "code",
      "metadata": {
        "id": "6692h2i9apw7"
      },
      "source": [
        "import time\n",
        "\n",
        "a = int(input('¿Cuántos numeros desea en su secuencia?'))\n",
        "timer=time.time() #Comenzamos el timer para medir tiemppo de ejecucción\n",
        "\n",
        "def secuenciaFibonacci(n):\n",
        "    a, b = 0, 1 #Definimos los dos (primeros) numeros anteriores\n",
        "    for i in range(n): #Usamos un for loop para imprimir las iteraciones\n",
        "        yield a #Yield en lugar de return para que se pueda seguir ejecutando despues de retornar el valor de 'a'\n",
        "        a, b = b, a + b #La formula matematica para desarrollar la secuencia Fibonacci\n",
        "\n",
        "#Constraint de MAXIMO los 100 primeros numeros de la secuencia\n",
        "if a<=100 and a>=0:\n",
        "    print(list(secuenciaFibonacci(a)))\n",
        "else:\n",
        "    print(\"Solo se puede imprimir entre los primeros 100 números de la serie\")\n",
        "    print(\"Ejecute de nuevo el código y asegurese que su número sea menor o igual a '100'\")\n",
        "\n",
        "#Imprime el tiempo que tardo en ejecutar el algoritmo\n",
        "end = time.time() - timer\n",
        "print(\"secuenciaFibonacci se tardo\")\n",
        "print (\"{:.10f}\".format(end) + \"En ejecutar\")\n",
        "\n"
      ],
      "execution_count": null,
      "outputs": []
    }
  ]
}