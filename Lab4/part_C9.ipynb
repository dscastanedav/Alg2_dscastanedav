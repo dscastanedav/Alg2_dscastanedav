{
  "nbformat": 4,
  "nbformat_minor": 0,
  "metadata": {
    "colab": {
      "name": "part_C9.ipynb",
      "provenance": [],
      "collapsed_sections": [],
      "include_colab_link": true
    },
    "kernelspec": {
      "name": "python3",
      "display_name": "Python 3"
    },
    "language_info": {
      "name": "python"
    }
  },
  "cells": [
    {
      "cell_type": "markdown",
      "metadata": {
        "id": "view-in-github",
        "colab_type": "text"
      },
      "source": [
        "<a href=\"https://colab.research.google.com/github/dscastanedav/Alg2_dscastanedav/blob/main/Lab4/part_C9.ipynb\" target=\"_parent\"><img src=\"https://colab.research.google.com/assets/colab-badge.svg\" alt=\"Open In Colab\"/></a>"
      ]
    },
    {
      "cell_type": "code",
      "metadata": {
        "colab": {
          "base_uri": "https://localhost:8080/"
        },
        "id": "ZDkG5App6-y9",
        "outputId": "8e956f95-31c3-4ec0-87b7-4c146e0e5083"
      },
      "source": [
        "class newNode:\n",
        "\n",
        "\t# Constructores para crear un nuevo nodo\n",
        "\tdef __init__(self, data):\n",
        "\t\tself.data = data\n",
        "\t\tself.left = None\n",
        "\t\tself.right = None\n",
        "\n",
        "#Funcion que busca si la llave existe o no\n",
        "def iterativeSearch(root, key):\n",
        "\t\n",
        "\t#Recorrer hasta que la raiz llegue a un final\n",
        "\twhile root != None:\n",
        "\t\t# pasa sub-arbol derecho sub-arbol como nuevo arbol\n",
        "\t\tif key > root.data:\n",
        "\t\t\troot = root.right\n",
        "\t\t\tprint(\"derecha \" , end=\" \")\n",
        "\t\t# pasa sub-arbol izquierdo sub-arbol como nuevo arbol\n",
        "\t\telif key < root.data:\n",
        "\t\t\troot = root.left\n",
        "\t\t\tprint(\"izquierda \" , end=\" \")\n",
        "\t\telse:\n",
        "\t\t\treturn True # si se encuentra la llave, retornar 1\n",
        "\treturn False\n",
        "\n",
        "#Funcion para insertar un nuevo nodo con BST\n",
        "def insert(Node, data):\n",
        "\t\n",
        "\t#Si el arbol esta vacio retornar un nuevo nodo\n",
        "\tif Node == None:\n",
        "\t\treturn newNode(data)\n",
        "\n",
        "\t# Si no, recorrer el arbol\n",
        "\tif data < Node.data:\n",
        "\t\tNode.left = insert(Node.left, data)\n",
        "\telif data > Node.data:\n",
        "\t\tNode.right = insert(Node.right, data)\n",
        "\n",
        "\t# retornar el apuntador de nodo\n",
        "\treturn Node\n",
        "\n",
        "# consola\n",
        "if __name__ == '__main__':\n",
        "  root = None\n",
        "  print(\"Ingrese el valor de la raiz para la generacion del arbol binario\")\n",
        "  root = insert(root,int(input()))\n",
        "  print(\"Cantidad de nodos para la generacion del arbol binario\")\n",
        "  nodes = int(input())\n",
        "  key_list = []\n",
        "  for i in range(0,nodes):\n",
        "    print(\"Ingrese el valor\", i+1)\n",
        "    insert(root, int(input()))\n",
        "    #key_list.insert(i, input())\n",
        "  print(\"Diga cual valor desea buscar en el arbol:\")\n",
        "  key = int(input())\n",
        "  if iterativeSearch(root, key):\n",
        "    print(\"es la ruta necesaria para encontrar el valor \" + str(key))\n",
        "  else:\n",
        "    print(\"\\nNo se encuentra el valor \" + str(key) + \" dentro del arbol\")"
      ],
      "execution_count": null,
      "outputs": [
        {
          "output_type": "stream",
          "name": "stdout",
          "text": [
            "Ingrese el valor de la raiz para la generacion del arbol binario\n",
            "5\n",
            "Cantidad de nodos para la generacion del arbol binario\n",
            "4\n",
            "Ingrese el valor 1\n",
            "1\n",
            "Ingrese el valor 2\n",
            "2\n",
            "Ingrese el valor 3\n",
            "6\n",
            "Ingrese el valor 4\n",
            "7\n",
            "Diga cual valor desea buscar en el arbol:\n",
            "9\n",
            "derecha  derecha  derecha  \n",
            "No se encuentra el valor 9 dentro del arbol\n"
          ]
        }
      ]
    }
  ]
}